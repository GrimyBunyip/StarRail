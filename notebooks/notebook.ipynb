{
 "cells": [
  {
   "cell_type": "code",
   "execution_count": 1,
   "metadata": {},
   "outputs": [
    {
     "ename": "TypeError",
     "evalue": "'module' object is not callable",
     "output_type": "error",
     "traceback": [
      "\u001b[1;31m---------------------------------------------------------------------------\u001b[0m",
      "\u001b[1;31mTypeError\u001b[0m                                 Traceback (most recent call last)",
      "Cell \u001b[1;32mIn[1], line 17\u001b[0m\n\u001b[0;32m     14\u001b[0m CharacterDict \u001b[39m=\u001b[39m {} \u001b[39m# store character information here\u001b[39;00m\n\u001b[0;32m     15\u001b[0m EffectDict \u001b[39m=\u001b[39m {} \u001b[39m# store dps metrics here\u001b[39;00m\n\u001b[1;32m---> 17\u001b[0m cone \u001b[39m=\u001b[39m lightCones\u001b[39m.\u001b[39;49mCruisingInTheStellarSea(passiveUptime \u001b[39m=\u001b[39;49m \u001b[39m0.5\u001b[39;49m, \u001b[39m*\u001b[39;49m\u001b[39m*\u001b[39;49mConfiguration)\n\u001b[0;32m     18\u001b[0m DanHengCharacter \u001b[39m=\u001b[39m DanHeng(lightcone \u001b[39m=\u001b[39m cone,\n\u001b[0;32m     19\u001b[0m             relicsetone \u001b[39m=\u001b[39m relicSets\u001b[39m.\u001b[39mEagleOfTwilightLine2pc(),\n\u001b[0;32m     20\u001b[0m             relicsettwo \u001b[39m=\u001b[39m relicSets\u001b[39m.\u001b[39mEagleOfTwilightLine4pc(),\n\u001b[1;32m   (...)\u001b[0m\n\u001b[0;32m     26\u001b[0m            fasterThanLightUptime \u001b[39m=\u001b[39m \u001b[39m1.0\u001b[39m,\n\u001b[0;32m     27\u001b[0m             \u001b[39m*\u001b[39m\u001b[39m*\u001b[39mConfiguration)\n\u001b[0;32m     29\u001b[0m DanHengRotation(DanHengCharacter, Configuration, CharacterDict, EffectDict)\n",
      "\u001b[1;31mTypeError\u001b[0m: 'module' object is not callable"
     ]
    }
   ],
   "source": [
    "import sys\n",
    "\n",
    "sys.path.append(\"..\")\n",
    "\n",
    "from lightCones.CruisingInTheStellarSea import CruisingInTheStellarSea\n",
    "from relicSets.EagleOfTwilightLine import EagleOfTwilightLine2pc, EagleOfTwilightLine4pc\n",
    "from relicSets.SpaceSealingStation import SpaceSealingStation\n",
    "from baseClasses.RelicStats import RelicStats\n",
    "from characters.Blade import BladeV1\n",
    "from characters.DanHeng import DanHengRotation, DanHeng\n",
    "from characters.Yanqing import YanqingV1\n",
    "from settings.BaseConfiguration import Configuration\n",
    "from visualizer.visualizer import visualize\n",
    "\n",
    "if __name__ == '__main__':\n",
    "    CharacterDict = {} # store character information here\n",
    "    EffectDict = {} # store dps metrics here\n",
    "    \n",
    "    DanHengCharacter = DanHeng(lightcone = CruisingInTheStellarSea(passiveUptime = 0.5, **Configuration),\n",
    "                relicsetone = EagleOfTwilightLine2pc(),\n",
    "                relicsettwo = EagleOfTwilightLine4pc(),\n",
    "                planarset = SpaceSealingStation(),\n",
    "                relicstats = RelicStats(mainstats = ['percAtk', 'flatSpd', 'CR', 'windDmg'],\n",
    "                            substats = {'CR': 10, 'CD': 10}),\n",
    "               talentUptime = 0.25,\n",
    "               slowUptime = 1.0,\n",
    "               fasterThanLightUptime = 1.0,\n",
    "                **Configuration)\n",
    "    \n",
    "    DanHengRotation(DanHengCharacter, Configuration, CharacterDict, EffectDict)\n",
    "    YanqingV1(Configuration, CharacterDict, EffectDict)\n",
    "    \n",
    "    BladeV1(Configuration, CharacterDict, EffectDict)\n",
    "\n",
    "    visualize(CharacterDict, EffectDict, Configuration)"
   ]
  }
 ],
 "metadata": {
  "kernelspec": {
   "display_name": "Python 3",
   "language": "python",
   "name": "python3"
  },
  "language_info": {
   "codemirror_mode": {
    "name": "ipython",
    "version": 3
   },
   "file_extension": ".py",
   "mimetype": "text/x-python",
   "name": "python",
   "nbconvert_exporter": "python",
   "pygments_lexer": "ipython3",
   "version": "3.11.5"
  },
  "orig_nbformat": 4
 },
 "nbformat": 4,
 "nbformat_minor": 2
}
