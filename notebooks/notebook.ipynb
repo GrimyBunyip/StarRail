{
 "cells": [
  {
   "cell_type": "code",
   "execution_count": 3,
   "metadata": {},
   "outputs": [
    {
     "ename": "ModuleNotFoundError",
     "evalue": "No module named 'characters'",
     "output_type": "error",
     "traceback": [
      "\u001b[1;31m---------------------------------------------------------------------------\u001b[0m",
      "\u001b[1;31mModuleNotFoundError\u001b[0m                       Traceback (most recent call last)",
      "Cell \u001b[1;32mIn[3], line 1\u001b[0m\n\u001b[1;32m----> 1\u001b[0m \u001b[39mfrom\u001b[39;00m \u001b[39mcharacters\u001b[39;00m\u001b[39m.\u001b[39;00m\u001b[39mBlade\u001b[39;00m \u001b[39mimport\u001b[39;00m BladeV1\n\u001b[0;32m      2\u001b[0m \u001b[39mfrom\u001b[39;00m \u001b[39mcharacters\u001b[39;00m\u001b[39m.\u001b[39;00m\u001b[39mDanHeng\u001b[39;00m \u001b[39mimport\u001b[39;00m DanHengV1\n\u001b[0;32m      3\u001b[0m \u001b[39mfrom\u001b[39;00m \u001b[39mcharacters\u001b[39;00m\u001b[39m.\u001b[39;00m\u001b[39mYanqing\u001b[39;00m \u001b[39mimport\u001b[39;00m YanqingV1\n",
      "\u001b[1;31mModuleNotFoundError\u001b[0m: No module named 'characters'"
     ]
    }
   ],
   "source": [
    "import sys\n",
    "sys.path.append(\"..\")\n",
    "\n",
    "from characters.Blade import BladeV1\n",
    "from characters.DanHeng import DanHengV1\n",
    "from characters.Yanqing import YanqingV1\n",
    "from settings.BaseConfiguration import Configuration\n",
    "from visualizer.visualizer import visualize\n",
    "\n",
    "if __name__ == '__main__':\n",
    "    CharacterDict = {} # store character information here\n",
    "    EffectDict = {} # store dps metrics here\n",
    "    \n",
    "    DanHengV1(Configuration, CharacterDict, EffectDict)\n",
    "    YanqingV1(Configuration, CharacterDict, EffectDict)\n",
    "    BladeV1(Configuration, CharacterDict, EffectDict)\n",
    "\n",
    "    visualize(CharacterDict, EffectDict, Configuration)"
   ]
  }
 ],
 "metadata": {
  "kernelspec": {
   "display_name": "Python 3",
   "language": "python",
   "name": "python3"
  },
  "language_info": {
   "codemirror_mode": {
    "name": "ipython",
    "version": 3
   },
   "file_extension": ".py",
   "mimetype": "text/x-python",
   "name": "python",
   "nbconvert_exporter": "python",
   "pygments_lexer": "ipython3",
   "version": "3.11.5"
  },
  "orig_nbformat": 4
 },
 "nbformat": 4,
 "nbformat_minor": 2
}
