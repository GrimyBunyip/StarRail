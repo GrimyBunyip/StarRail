{
 "cells": [
  {
   "cell_type": "markdown",
   "metadata": {},
   "source": [
    "Here I will crossreference my stats and damage numbers with Grimro's spreadsheet to check for errors     \n",
    "I don't do 8 cycle rotations, though, so this will just be crossreferencing stats and skill damage    "
   ]
  },
  {
   "cell_type": "code",
   "execution_count": 17,
   "metadata": {},
   "outputs": [],
   "source": [
    "from copy import copy\n",
    "from settings.BaseConfiguration import Configuration\n",
    "from baseClasses.RelicStats import RelicStats\n",
    "from estimator.DefaultEstimator import DefaultEstimator\n",
    "from visualizer.visualizer import visualize\n",
    "\n",
    "from characters.destruction.Blade import Blade\n",
    "from characters.destruction.Clara import Clara\n",
    "from characters.hunt.DanHeng import DanHeng\n",
    "from characters.destruction.Jingliu import Jingliu\n",
    "from characters.nihility.Kafka import Kafka\n",
    "from characters.destruction.Lunae import Lunae\n",
    "from characters.hunt.Seele import Seele\n",
    "from characters.erudition.Serval import Serval\n",
    "from characters.hunt.Yanqing import Yanqing\n",
    "\n",
    "from lightCones.destruction.ASecretVow import ASecretVow\n",
    "from lightCones.erudition.TheSeriousnessOfBreakfast import TheSeriousnessOfBreakfast\n",
    "from lightCones.hunt.CruisingInTheStellarSea import CruisingInTheStellarSea\n",
    "from lightCones.nihility.Fermata import Fermata\n",
    "from lightCones.destruction.OnTheFallOfAnAeon import OnTheFallOfAnAeon\n",
    "from lightCones.nihility.GoodNightAndSleepWell import GoodNightAndSleepWell\n",
    "\n",
    "from relicSets.relicSets.BandOfSizzlingThunder import BandOfSizzlingThunder2pc, BandOfSizzlingThunder4pc\n",
    "from relicSets.relicSets.ChampionOfStreetwiseBoxing import ChampionOfStreetwiseBoxing2pc, ChampionOfStreetwiseBoxing4pc\n",
    "from relicSets.relicSets.EagleOfTwilightLine import EagleOfTwilightLine2pc, EagleOfTwilightLine4pc\n",
    "from relicSets.relicSets.GeniusOfBrilliantStars import GeniusOfBrilliantStars2pc, GeniusOfBrilliantStars4pc\n",
    "from relicSets.relicSets.HunterOfGlacialForest import HunterOfGlacialForest2pc, HunterOfGlacialForest4pc\n",
    "from relicSets.relicSets.LongevousDisciple import LongevousDisciple2pc, LongevousDisciple4pc\n",
    "from relicSets.relicSets.MusketeerOfWildWheat import MusketeerOfWildWheat2pc, MusketeerOfWildWheat4pc\n",
    "from relicSets.relicSets.ThiefOfShootingMeteor import ThiefOfShootingMeteor2pc, ThiefOfShootingMeteor4pc\n",
    "from relicSets.relicSets.WastelanderOfBanditryDesert import WastelanderOfBanditryDesert2pc, WastelanderOfBanditryDesert4pc\n",
    "\n",
    "from relicSets.planarSets.InertSalsotto import InertSalsotto\n",
    "from relicSets.planarSets.RutilantArena import RutilantArena\n",
    "from relicSets.planarSets.SpaceSealingStation import SpaceSealingStation\n",
    "\n",
    "config = copy(Configuration)\n",
    "config['numEnemies'] = 3 # Going to compare my numbers vs Grimro's 3 target numbers"
   ]
  },
  {
   "cell_type": "code",
   "execution_count": 18,
   "metadata": {},
   "outputs": [
    {
     "name": "stdout",
     "output_type": "stream",
     "text": [
      "Atk - Mine: 3181.5129600000005 - Grimro: 3178.64\n",
      "CR - Mine: 0.9239200000000001 - Grimro: 0.92392\n",
      "CD - Mine: 1.43984 - Grimro: 1.43984\n",
      "Dmg - Mine: 0.912803 - Grimro: 0.9119999999999999\n",
      "Enhanced Basic Damage - Mine: 74860.6561961201 - Grimro: 80703.1175\n"
     ]
    }
   ],
   "source": [
    "# Lunae\n",
    "LunaeCharacter = Lunae(RelicStats(mainstats = ['percAtk', 'percAtk', 'CR', 'imagDmg'],\n",
    "                        substats = {'CR': 12, 'CD': 12}),\n",
    "            lightcone = OnTheFallOfAnAeon(uptime = 0.0, stacks=4.0, **config), # Grimro assumes zero uptime on break\n",
    "            relicsetone = MusketeerOfWildWheat2pc(),\n",
    "            relicsettwo = MusketeerOfWildWheat4pc(),\n",
    "            planarset = RutilantArena(),\n",
    "            **config)\n",
    "\n",
    "print('Atk - Mine: {} - Grimro: {}'.format(LunaeCharacter.getTotalAtk('basic'),2786+4*0.08*1227))\n",
    "print('CR - Mine: {} - Grimro: {}'.format(LunaeCharacter.CR,0.92392))\n",
    "print('CD - Mine: {} - Grimro: {}'.format(LunaeCharacter.CD,1.43984))\n",
    "print('Dmg - Mine: {} - Grimro: {}'.format(LunaeCharacter.getTotalDmg('basic')-1.0,0.6120+0.3))\n",
    "enhancedBasic = LunaeCharacter.useEnhancedBasic3()\n",
    "LunaeCharacter.endTurn() # reset heart stacks\n",
    "print('Enhanced Basic Damage - Mine: {} - Grimro: {}'.format(enhancedBasic.damage,84950.65*0.95)) # 0.95 to factor in toughness multiplier"
   ]
  },
  {
   "cell_type": "code",
   "execution_count": null,
   "metadata": {},
   "outputs": [],
   "source": []
  }
 ],
 "metadata": {
  "kernelspec": {
   "display_name": "Python 3",
   "language": "python",
   "name": "python3"
  },
  "language_info": {
   "codemirror_mode": {
    "name": "ipython",
    "version": 3
   },
   "file_extension": ".py",
   "mimetype": "text/x-python",
   "name": "python",
   "nbconvert_exporter": "python",
   "pygments_lexer": "ipython3",
   "version": "3.11.5"
  },
  "orig_nbformat": 4
 },
 "nbformat": 4,
 "nbformat_minor": 2
}
